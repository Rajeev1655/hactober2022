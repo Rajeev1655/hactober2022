{
  "nbformat": 4,
  "nbformat_minor": 0,
  "metadata": {
    "colab": {
      "name": "LinearRegression.ipynb",
      "provenance": []
    },
    "kernelspec": {
      "name": "python3",
      "display_name": "Python 3"
    },
    "language_info": {
      "name": "python"
    }
  },
  "cells": [
    {
      "cell_type": "code",
      "execution_count": 104,
      "metadata": {
        "id": "nXMnPmt_P9_9"
      },
      "outputs": [],
      "source": [
        "#importing the libraries\n",
        "import pandas as pd\n",
        "import numpy as np\n",
        "import math\n",
        "import matplotlib.pyplot as plt"
      ]
    },
    {
      "cell_type": "code",
      "source": [
        "#Reading the train data and test data files\n",
        "df_data=pd.read_csv('/TrainingData.csv')\n",
        "test_data=pd.read_csv(\"/TestingData.csv\")"
      ],
      "metadata": {
        "id": "9E8dXZ3tWYOO"
      },
      "execution_count": 105,
      "outputs": []
    },
    {
      "cell_type": "code",
      "source": [
        "#printing first 10 records of the training dataset\n",
        "df_data.head(10)"
      ],
      "metadata": {
        "colab": {
          "base_uri": "https://localhost:8080/",
          "height": 363
        },
        "id": "YPi75cA1ecN1",
        "outputId": "1a025bf2-28c3-4ee0-9604-99b70f10ae58"
      },
      "execution_count": 106,
      "outputs": [
        {
          "output_type": "execute_result",
          "data": {
            "text/plain": [
              "     row1      row2\n",
              "0 -1.7825  0.833004\n",
              "1 -0.5765 -4.904931\n",
              "2 -2.9080 -9.266440\n",
              "3  2.2610  8.477712\n",
              "4 -0.5440 -4.757166\n",
              "5 -1.5535  1.369886\n",
              "6 -1.2180 -1.204061\n",
              "7 -2.2395 -4.621420\n",
              "8 -0.5350 -4.729833\n",
              "9 -1.2400 -0.750207"
            ],
            "text/html": [
              "\n",
              "  <div id=\"df-b71aef15-b488-4134-9885-493986ee33aa\">\n",
              "    <div class=\"colab-df-container\">\n",
              "      <div>\n",
              "<style scoped>\n",
              "    .dataframe tbody tr th:only-of-type {\n",
              "        vertical-align: middle;\n",
              "    }\n",
              "\n",
              "    .dataframe tbody tr th {\n",
              "        vertical-align: top;\n",
              "    }\n",
              "\n",
              "    .dataframe thead th {\n",
              "        text-align: right;\n",
              "    }\n",
              "</style>\n",
              "<table border=\"1\" class=\"dataframe\">\n",
              "  <thead>\n",
              "    <tr style=\"text-align: right;\">\n",
              "      <th></th>\n",
              "      <th>row1</th>\n",
              "      <th>row2</th>\n",
              "    </tr>\n",
              "  </thead>\n",
              "  <tbody>\n",
              "    <tr>\n",
              "      <th>0</th>\n",
              "      <td>-1.7825</td>\n",
              "      <td>0.833004</td>\n",
              "    </tr>\n",
              "    <tr>\n",
              "      <th>1</th>\n",
              "      <td>-0.5765</td>\n",
              "      <td>-4.904931</td>\n",
              "    </tr>\n",
              "    <tr>\n",
              "      <th>2</th>\n",
              "      <td>-2.9080</td>\n",
              "      <td>-9.266440</td>\n",
              "    </tr>\n",
              "    <tr>\n",
              "      <th>3</th>\n",
              "      <td>2.2610</td>\n",
              "      <td>8.477712</td>\n",
              "    </tr>\n",
              "    <tr>\n",
              "      <th>4</th>\n",
              "      <td>-0.5440</td>\n",
              "      <td>-4.757166</td>\n",
              "    </tr>\n",
              "    <tr>\n",
              "      <th>5</th>\n",
              "      <td>-1.5535</td>\n",
              "      <td>1.369886</td>\n",
              "    </tr>\n",
              "    <tr>\n",
              "      <th>6</th>\n",
              "      <td>-1.2180</td>\n",
              "      <td>-1.204061</td>\n",
              "    </tr>\n",
              "    <tr>\n",
              "      <th>7</th>\n",
              "      <td>-2.2395</td>\n",
              "      <td>-4.621420</td>\n",
              "    </tr>\n",
              "    <tr>\n",
              "      <th>8</th>\n",
              "      <td>-0.5350</td>\n",
              "      <td>-4.729833</td>\n",
              "    </tr>\n",
              "    <tr>\n",
              "      <th>9</th>\n",
              "      <td>-1.2400</td>\n",
              "      <td>-0.750207</td>\n",
              "    </tr>\n",
              "  </tbody>\n",
              "</table>\n",
              "</div>\n",
              "      <button class=\"colab-df-convert\" onclick=\"convertToInteractive('df-b71aef15-b488-4134-9885-493986ee33aa')\"\n",
              "              title=\"Convert this dataframe to an interactive table.\"\n",
              "              style=\"display:none;\">\n",
              "        \n",
              "  <svg xmlns=\"http://www.w3.org/2000/svg\" height=\"24px\"viewBox=\"0 0 24 24\"\n",
              "       width=\"24px\">\n",
              "    <path d=\"M0 0h24v24H0V0z\" fill=\"none\"/>\n",
              "    <path d=\"M18.56 5.44l.94 2.06.94-2.06 2.06-.94-2.06-.94-.94-2.06-.94 2.06-2.06.94zm-11 1L8.5 8.5l.94-2.06 2.06-.94-2.06-.94L8.5 2.5l-.94 2.06-2.06.94zm10 10l.94 2.06.94-2.06 2.06-.94-2.06-.94-.94-2.06-.94 2.06-2.06.94z\"/><path d=\"M17.41 7.96l-1.37-1.37c-.4-.4-.92-.59-1.43-.59-.52 0-1.04.2-1.43.59L10.3 9.45l-7.72 7.72c-.78.78-.78 2.05 0 2.83L4 21.41c.39.39.9.59 1.41.59.51 0 1.02-.2 1.41-.59l7.78-7.78 2.81-2.81c.8-.78.8-2.07 0-2.86zM5.41 20L4 18.59l7.72-7.72 1.47 1.35L5.41 20z\"/>\n",
              "  </svg>\n",
              "      </button>\n",
              "      \n",
              "  <style>\n",
              "    .colab-df-container {\n",
              "      display:flex;\n",
              "      flex-wrap:wrap;\n",
              "      gap: 12px;\n",
              "    }\n",
              "\n",
              "    .colab-df-convert {\n",
              "      background-color: #E8F0FE;\n",
              "      border: none;\n",
              "      border-radius: 50%;\n",
              "      cursor: pointer;\n",
              "      display: none;\n",
              "      fill: #1967D2;\n",
              "      height: 32px;\n",
              "      padding: 0 0 0 0;\n",
              "      width: 32px;\n",
              "    }\n",
              "\n",
              "    .colab-df-convert:hover {\n",
              "      background-color: #E2EBFA;\n",
              "      box-shadow: 0px 1px 2px rgba(60, 64, 67, 0.3), 0px 1px 3px 1px rgba(60, 64, 67, 0.15);\n",
              "      fill: #174EA6;\n",
              "    }\n",
              "\n",
              "    [theme=dark] .colab-df-convert {\n",
              "      background-color: #3B4455;\n",
              "      fill: #D2E3FC;\n",
              "    }\n",
              "\n",
              "    [theme=dark] .colab-df-convert:hover {\n",
              "      background-color: #434B5C;\n",
              "      box-shadow: 0px 1px 3px 1px rgba(0, 0, 0, 0.15);\n",
              "      filter: drop-shadow(0px 1px 2px rgba(0, 0, 0, 0.3));\n",
              "      fill: #FFFFFF;\n",
              "    }\n",
              "  </style>\n",
              "\n",
              "      <script>\n",
              "        const buttonEl =\n",
              "          document.querySelector('#df-b71aef15-b488-4134-9885-493986ee33aa button.colab-df-convert');\n",
              "        buttonEl.style.display =\n",
              "          google.colab.kernel.accessAllowed ? 'block' : 'none';\n",
              "\n",
              "        async function convertToInteractive(key) {\n",
              "          const element = document.querySelector('#df-b71aef15-b488-4134-9885-493986ee33aa');\n",
              "          const dataTable =\n",
              "            await google.colab.kernel.invokeFunction('convertToInteractive',\n",
              "                                                     [key], {});\n",
              "          if (!dataTable) return;\n",
              "\n",
              "          const docLinkHtml = 'Like what you see? Visit the ' +\n",
              "            '<a target=\"_blank\" href=https://colab.research.google.com/notebooks/data_table.ipynb>data table notebook</a>'\n",
              "            + ' to learn more about interactive tables.';\n",
              "          element.innerHTML = '';\n",
              "          dataTable['output_type'] = 'display_data';\n",
              "          await google.colab.output.renderOutput(dataTable, element);\n",
              "          const docLink = document.createElement('div');\n",
              "          docLink.innerHTML = docLinkHtml;\n",
              "          element.appendChild(docLink);\n",
              "        }\n",
              "      </script>\n",
              "    </div>\n",
              "  </div>\n",
              "  "
            ]
          },
          "metadata": {},
          "execution_count": 106
        }
      ]
    },
    {
      "cell_type": "code",
      "source": [
        "#finding the gradiant descent for depth 0\n",
        "def grad_zero(thetazero,thetaone,l,df_data):\n",
        "  funczero=0\n",
        "  funcone=0\n",
        "  error=0\n",
        "  n=df_data.shape[0]\n",
        "  for i in range(1,n):\n",
        "    x=df_data['row1'][i]\n",
        "    y=df_data['row2'][i]\n",
        "    funczero +=(y-(thetazero+ thetaone*x))\n",
        "    funcone +=x*funczero\n",
        "    error+=(1/n)*((y-(thetazero+ thetaone*x))**2)\n",
        "\n",
        "  error=error/float(n)\n",
        "  thetazero_grad=(-2*funczero)/n\n",
        "  thetaone_grad=(-2*funcone)/n\n",
        "  thetazero = thetazero - l * thetazero_grad\n",
        "  thetaone = thetaone - l * thetaone_grad\n",
        "  return thetazero, thetaone, error\n"
      ],
      "metadata": {
        "id": "BaqmjC_QWf-m"
      },
      "execution_count": 107,
      "outputs": []
    },
    {
      "cell_type": "code",
      "source": [
        "#finding the gradiant descent for depth 1\n",
        "def grad_one(tzero,tone,ttwo,tthree,l,df_data):\n",
        "  tzero_grad=0\n",
        "  tone_grad=0\n",
        "  ttwo_grad=0\n",
        "  tthree_grad=0\n",
        "  n=df_data.shape[0]\n",
        "  error=0\n",
        "  for i in range(1,n):\n",
        "    x=df_data['row1'][i]\n",
        "    y=df_data['row2'][i]\n",
        "    func=y-(tzero+ tone*x+ ttwo*math.sin(3*x)+ tthree*math.cos(3*x))\n",
        "    tzero_grad +=(-2/n)*func\n",
        "    tone_grad +=(-2/n)*x*func\n",
        "    ttwo_grad +=(-2/n)*math.sin(3*x)*func\n",
        "    tthree_grad +=(-2/n)*math.cos(3*x)*func\n",
        "    error+=(1/n)*(func**2)\n",
        "\n",
        "  error=error/float(n)\n",
        "  tzero = tzero - l * tzero_grad\n",
        "  tone = tone - l * tone_grad\n",
        "  ttwo = ttwo - l * ttwo_grad\n",
        "  tthree = tthree - l * tthree_grad\n",
        "  return tzero, tone, ttwo, tthree, error\n",
        "\n"
      ],
      "metadata": {
        "id": "jL5Vj97hfxNy"
      },
      "execution_count": 108,
      "outputs": []
    },
    {
      "cell_type": "code",
      "source": [
        "#finding the gradiant descent for depth 2\n",
        "def grad_two(tzero,tone,ttwo,tthree,tfour,tfive,l,df_data):\n",
        "  tzero_grad=0\n",
        "  tone_grad=0\n",
        "  ttwo_grad=0\n",
        "  tthree_grad=0\n",
        "  tfour_grad=0\n",
        "  tfive_grad=0\n",
        "  error=0\n",
        "  n=df_data.shape[0]\n",
        "  for i in range(1,n):\n",
        "    x=df_data['row1'][i]\n",
        "    y=df_data['row2'][i]\n",
        "    func=y-(tzero+ tone*x+ ttwo*math.sin(3*x)+ tthree*math.cos(3*x)+tfour*math.sin(6*x)+tfive*math.cos(6*x))\n",
        "    tzero_grad +=(-2/n)*func\n",
        "    tone_grad +=(-2/n)*x*func\n",
        "    ttwo_grad +=(-2/n)*math.sin(3*x)*func\n",
        "    tthree_grad +=(-2/n)*math.cos(3*x)*func\n",
        "    tfour_grad +=(-2/n)*math.sin(6*x)*func\n",
        "    tfive_grad +=(-2/n)*math.cos(6*x)*func\n",
        "    error+=(1/n)*(func**2)\n",
        "\n",
        "  error=error/float(n)\n",
        "  tzero = tzero - l * tzero_grad\n",
        "  tone = tone - l * tone_grad\n",
        "  ttwo = ttwo - l * ttwo_grad\n",
        "  tthree = tthree - l * tthree_grad\n",
        "  tfour = tfour - l * tfour_grad\n",
        "  tfive = tfive -l * tfive_grad\n",
        "  return tzero, tone, ttwo, tthree, tfour, tfive, error"
      ],
      "metadata": {
        "id": "IgWsBzbtiyXr"
      },
      "execution_count": 109,
      "outputs": []
    },
    {
      "cell_type": "code",
      "source": [
        "#finding the gradiant descent for depth 3\n",
        "def grad_three(tzero,tone,ttwo,tthree,tfour,tfive,tsix,tseven,l,df_data):\n",
        "  tzero_grad=0\n",
        "  tone_grad=0\n",
        "  ttwo_grad=0\n",
        "  tthree_grad=0\n",
        "  tfour_grad=0\n",
        "  tfive_grad=0\n",
        "  tsix_grad=0\n",
        "  tseven_grad=0\n",
        "  error=0\n",
        "  n=df_data.shape[0]\n",
        "  for i in range(1,n):\n",
        "    x=df_data['row1'][i]\n",
        "    y=df_data['row2'][i]\n",
        "    func=y-(tzero+ tone*x+ ttwo*math.sin(3*x)+ tthree*math.cos(3*x)+tfour*math.sin(6*x)+tfive*math.cos(6*x)+tsix*math.sin(9*x)+tseven*math.cos(9*x))\n",
        "    tzero_grad +=(-2/n)*func\n",
        "    tone_grad +=(-2/n)*x*func\n",
        "    ttwo_grad +=(-2/n)*math.sin(3*x)*func\n",
        "    tthree_grad +=(-2/n)*math.cos(3*x)*func\n",
        "    tfour_grad +=(-2/n)*math.sin(6*x)*func\n",
        "    tfive_grad +=(-2/n)*math.cos(6*x)*func\n",
        "    tsix_grad +=(-2/n)*math.sin(9*x)*func\n",
        "    tseven_grad +=(-2/n)*math.cos(9*x)*func\n",
        "    error+=(1/n)*(func**2)\n",
        "\n",
        "  error=error/float(n)\n",
        "  tzero = tzero - l * tzero_grad\n",
        "  tone = tone - l * tone_grad\n",
        "  ttwo = ttwo - l * ttwo_grad\n",
        "  tthree = tthree - l * tthree_grad\n",
        "  tfour = tfour - l * tfour_grad\n",
        "  tfive = tfive - l * tfive_grad\n",
        "  tsix = tsix - l * tsix_grad\n",
        "  tseven = tseven - l * tseven_grad\n",
        "  return tzero, tone, ttwo, tthree, tfour, tfive, tsix, tseven, error"
      ],
      "metadata": {
        "id": "-qFRX-XYxOFW"
      },
      "execution_count": 110,
      "outputs": []
    },
    {
      "cell_type": "code",
      "source": [
        "#finding the gradiant descent for depth 4\n",
        "def grad_four(tzero,tone,ttwo,tthree,tfour,tfive,tsix,tseven,teight,tnine,l,df_data):\n",
        "  tzero_grad=0\n",
        "  tone_grad=0\n",
        "  ttwo_grad=0\n",
        "  tthree_grad=0\n",
        "  tfour_grad=0\n",
        "  tfive_grad=0\n",
        "  tsix_grad=0\n",
        "  tseven_grad=0\n",
        "  teight_grad=0\n",
        "  tnine_grad=0\n",
        "  error=0\n",
        "  n=df_data.shape[0]\n",
        "  for i in range(1,n):\n",
        "    x=df_data['row1'][i]\n",
        "    y=df_data['row2'][i]\n",
        "    func=y-(tzero+ tone*x+ ttwo*math.sin(3*x)+ tthree*math.cos(3*x)+tfour*math.sin(6*x)+tfive*math.cos(6*x)+tsix*math.sin(9*x)+tseven*math.cos(9*x)+teight*math.sin(12*x)+tnine*math.cos(12*x))\n",
        "    tzero_grad +=(-2/n)*func\n",
        "    tone_grad +=(-2/n)*x*func\n",
        "    ttwo_grad +=(-2/n)*math.sin(3*x)*func\n",
        "    tthree_grad +=(-2/n)*math.cos(3*x)*func\n",
        "    tfour_grad +=(-2/n)*math.sin(6*x)*func\n",
        "    tfive_grad +=(-2/n)*math.cos(6*x)*func\n",
        "    tsix_grad +=(-2/n)*math.sin(9*x)*func\n",
        "    tseven_grad +=(-2/n)*math.cos(9*x)*func\n",
        "    teight_grad +=(-2/n)*math.sin(12*x)*func\n",
        "    tnine_grad +=(-2/n)*math.cos(12*x)*func\n",
        "    error+=(1/n)*(func**2)\n",
        "\n",
        "  error=error/float(n)\n",
        "  tzero = tzero - l * tzero_grad\n",
        "  tone = tone - l * tone_grad\n",
        "  ttwo = ttwo - l * ttwo_grad\n",
        "  tthree = tthree - l * tthree_grad\n",
        "  tfour = tfour - l * tfour_grad\n",
        "  tfive = tfive - l * tfive_grad\n",
        "  tsix = tsix - l * tsix_grad\n",
        "  tseven = tseven - l * tseven_grad\n",
        "  teight = teight - l * teight_grad\n",
        "  tnine = tnine - l * tnine_grad\n",
        "  return tzero, tone, ttwo, tthree, tfour, tfive, tsix, tseven, teight, tnine, error"
      ],
      "metadata": {
        "id": "ZM1y9nzuy9WZ"
      },
      "execution_count": 111,
      "outputs": []
    },
    {
      "cell_type": "code",
      "source": [
        "#finding the gradiant descent for depth 5\n",
        "def grad_five(tzero,tone,ttwo,tthree,tfour,tfive,tsix,tseven,teight,tnine,tten,televen,l,df_data):\n",
        "  tzero_grad=0\n",
        "  tone_grad=0\n",
        "  ttwo_grad=0\n",
        "  tthree_grad=0\n",
        "  tfour_grad=0\n",
        "  tfive_grad=0\n",
        "  tsix_grad=0\n",
        "  tseven_grad=0\n",
        "  teight_grad=0\n",
        "  tnine_grad=0\n",
        "  tten_grad=0\n",
        "  televen_grad=0\n",
        "  error=0\n",
        "  n=df_data.shape[0]\n",
        "  for i in range(1,n):\n",
        "    x=df_data['row1'][i]\n",
        "    y=df_data['row2'][i]\n",
        "    func=y-(tzero+ tone*x+ ttwo*math.sin(3*x)+ tthree*math.cos(3*x)+tfour*math.sin(6*x)+tfive*math.cos(6*x)+tsix*math.sin(9*x)+tseven*math.cos(9*x)+teight*math.sin(12*x)+tnine*math.cos(12*x)+tten*math.sin(15*x)+televen*math.cos(15*x))\n",
        "    tzero_grad +=(-2/n)*func\n",
        "    tone_grad +=(-2/n)*x*func\n",
        "    ttwo_grad +=(-2/n)*math.sin(3*x)*func\n",
        "    tthree_grad +=(-2/n)*math.cos(3*x)*func\n",
        "    tfour_grad +=(-2/n)*math.sin(6*x)*func\n",
        "    tfive_grad +=(-2/n)*math.cos(6*x)*func\n",
        "    tsix_grad +=(-2/n)*math.sin(9*x)*func\n",
        "    tseven_grad +=(-2/n)*math.cos(9*x)*func\n",
        "    teight_grad +=(-2/n)*math.sin(12*x)*func\n",
        "    tnine_grad +=(-2/n)*math.cos(12*x)*func\n",
        "    tten_grad +=(-2/n)*math.sin(15*x)*func\n",
        "    televen_grad +=(-2/n)*math.cos(15*x)*func\n",
        "    error+=(1/n)*(func**2)\n",
        "\n",
        "  error=error/float(n)\n",
        "  tzero = tzero - l * tzero_grad\n",
        "  tone = tone - l * tone_grad\n",
        "  ttwo = ttwo - l * ttwo_grad\n",
        "  tthree = tthree - l * tthree_grad\n",
        "  tfour = tfour - l * tfour_grad\n",
        "  tfive = tfive - l * tfive_grad\n",
        "  tsix = tsix - l * tsix_grad\n",
        "  tseven = tseven - l * tseven_grad\n",
        "  teight = teight - l * teight_grad\n",
        "  tnine = tnine - l * tnine_grad\n",
        "  tten = tten - l * tten_grad\n",
        "  televen = televen - l * televen_grad\n",
        "  return tzero, tone, ttwo, tthree, tfour, tfive, tsix, tseven, teight, tnine, tten, televen, error"
      ],
      "metadata": {
        "id": "M7eBsB0y0FZF"
      },
      "execution_count": 112,
      "outputs": []
    },
    {
      "cell_type": "code",
      "source": [
        "#finding the gradiant descent for depth 6\n",
        "def grad_six(tzero,tone,ttwo,tthree,tfour,tfive,tsix,tseven,teight,tnine,tten,televen,t12,t13,l,df_data):\n",
        "  tzero_grad=0\n",
        "  tone_grad=0\n",
        "  ttwo_grad=0\n",
        "  tthree_grad=0\n",
        "  tfour_grad=0\n",
        "  tfive_grad=0\n",
        "  tsix_grad=0\n",
        "  tseven_grad=0\n",
        "  teight_grad=0\n",
        "  tnine_grad=0\n",
        "  tten_grad=0\n",
        "  televen_grad=0\n",
        "  t12_grad=0\n",
        "  t13_grad=0\n",
        "  error=0\n",
        "  n=df_data.shape[0]\n",
        "  for i in range(1,n):\n",
        "    x=df_data['row1'][i]\n",
        "    y=df_data['row2'][i]\n",
        "    func=y-(tzero+ tone*x+ ttwo*math.sin(3*x)+ tthree*math.cos(3*x)+tfour*math.sin(6*x)+tfive*math.cos(6*x)+tsix*math.sin(9*x)+tseven*math.cos(9*x)+teight*math.sin(12*x)+tnine*math.cos(12*x)+tten*math.sin(15*x)+televen*math.cos(15*x)+t12*math.sin(18*x)+t13*math.cos(18*x))\n",
        "    tzero_grad +=(-2/n)*func\n",
        "    tone_grad +=(-2/n)*x*func\n",
        "    ttwo_grad +=(-2/n)*math.sin(3*x)*func\n",
        "    tthree_grad +=(-2/n)*math.cos(3*x)*func\n",
        "    tfour_grad +=(-2/n)*math.sin(6*x)*func\n",
        "    tfive_grad +=(-2/n)*math.cos(6*x)*func\n",
        "    tsix_grad +=(-2/n)*math.sin(9*x)*func\n",
        "    tseven_grad +=(-2/n)*math.cos(9*x)*func\n",
        "    teight_grad +=(-2/n)*math.sin(12*x)*func\n",
        "    tnine_grad +=(-2/n)*math.cos(12*x)*func\n",
        "    tten_grad +=(-2/n)*math.sin(15*x)*func\n",
        "    televen_grad +=(-2/n)*math.cos(15*x)*func\n",
        "    t12_grad +=(-2/n)*math.sin(18*x)*func\n",
        "    t13_grad +=(-2/n)*math.cos(18*x)*func\n",
        "    error+=(1/n)*(func**2)\n",
        "\n",
        "  error=error/float(n)\n",
        "  tzero = tzero - l * tzero_grad\n",
        "  tone = tone - l * tone_grad\n",
        "  ttwo = ttwo - l * ttwo_grad\n",
        "  tthree = tthree - l * tthree_grad\n",
        "  tfour = tfour - l * tfour_grad\n",
        "  tfive = tfive - l * tfive_grad\n",
        "  tsix = tsix - l * tsix_grad\n",
        "  tseven = tseven - l * tseven_grad\n",
        "  teight = teight - l * teight_grad\n",
        "  tnine = tnine - l * tnine_grad\n",
        "  tten = tten - l * tten_grad\n",
        "  televen = televen - l * televen_grad\n",
        "  t12= t12 - l * t12_grad\n",
        "  t13 = t13 - l * t13_grad\n",
        "  return tzero, tone, ttwo, tthree, tfour, tfive, tsix, tseven, teight, tnine, tten, televen, t12, t13, error"
      ],
      "metadata": {
        "id": "syk8Wm590ziv"
      },
      "execution_count": 113,
      "outputs": []
    },
    {
      "cell_type": "code",
      "source": [
        "#Implementing the code for the Linear regression for traindata and testdata\n",
        "tzero = 0\n",
        "tone = 0\n",
        "ttwo = 0\n",
        "tthree = 0\n",
        "tfour = 0\n",
        "tfive = 0\n",
        "tsix = 0\n",
        "tseven = 0\n",
        "teight = 0\n",
        "tnine = 0\n",
        "tten = 0\n",
        "televen = 0\n",
        "t12 = 0\n",
        "t13 = 0\n",
        "error=0\n",
        "l = 0.001\n",
        "epochs = 1000\n",
        "\n",
        "#Train the model\n",
        "print(\"When depth is equal to 0\")\n",
        "for i in range(epochs):\n",
        "  tzero, tone, error0= grad_zero(tzero, tone, l, df_data)\n",
        "print(tzero, tone)\n",
        "print(\"Error value when depth is 0\", error0)\n",
        "plt.scatter(df_data['row1'], df_data['row2'], color='green')\n",
        "plt.plot(list(range(-3,4)), [tzero+tone*x for x in range(-3,4)],color='blue')\n",
        "plt.show()\n",
        "print(\"When depth is equal to 1\")\n",
        "for i in range(epochs):\n",
        "  tzero, tone, ttwo, tthree, error1= grad_one(tzero, tone, ttwo, tthree, l, df_data)\n",
        "print(tzero, tone, ttwo, tthree)\n",
        "print(\"Error value when depth is 1\", error1)\n",
        "plt.scatter(df_data['row1'], df_data['row2'], color='green')\n",
        "plt.plot(list(range(-3,4)), [tzero+ tone*x+ ttwo*math.sin(3*x)+ tthree*math.cos(3*x) for x in range(-3,4)],color='blue')\n",
        "plt.show()\n",
        "print(\"When depth is equal to 2\")\n",
        "for i in range(epochs):\n",
        "  tzero, tone, ttwo, tthree, tfour, tfive,error2= grad_two(tzero, tone, ttwo, tthree, tfour, tfive, l, df_data)\n",
        "print(tzero, tone, ttwo, tthree, tfour, tfive)\n",
        "print(\"Error value when depth is 2\", error2)\n",
        "plt.scatter(df_data['row1'], df_data['row2'], color='green')\n",
        "plt.plot(list(range(-3,4)), [tzero+ tone*x+ ttwo*math.sin(3*x)+ tthree*math.cos(3*x)+tfour*math.sin(6*x)+tfive*math.cos(6*x) for x in range(-3,4)],color='blue')\n",
        "plt.show()\n",
        "print(\"When depth is equal to 3\")\n",
        "for i in range(epochs):\n",
        "  tzero, tone, ttwo, tthree, tfour, tfive, tsix, tseven, error3= grad_three(tzero, tone, ttwo, tthree, tfour, tfive, tsix, tseven, l, df_data)\n",
        "print(tzero, tone, ttwo, tthree, tfour, tfive, tsix, tseven)\n",
        "print(\"Error value when depth is 3\", error3)\n",
        "plt.scatter(df_data['row1'], df_data['row2'], color='green')\n",
        "plt.plot(list(range(-3,4)), [tzero+ tone*x+ ttwo*math.sin(3*x)+ tthree*math.cos(3*x)+tfour*math.sin(6*x)+tfive*math.cos(6*x)+tsix*math.sin(9*x)+tseven*math.cos(9*x) for x in range(-3,4)],color='blue')\n",
        "plt.show()\n",
        "print(\"When depth is equal to 4\")\n",
        "for i in range(epochs):\n",
        "  tzero, tone, ttwo, tthree, tfour, tfive, tsix, tseven, teight, tnine, error4= grad_four(tzero, tone, ttwo, tthree, tfour, tfive, tsix, tseven, teight, tnine, l, df_data)\n",
        "print(tzero, tone, ttwo, tthree, tfour, tfive, tsix, tseven, teight, tnine)\n",
        "print(\"Error value when depth is 4\", error4)\n",
        "plt.scatter(df_data['row1'], df_data['row2'], color='green')\n",
        "plt.plot(list(range(-3,4)), [tzero+ tone*x+ ttwo*math.sin(3*x)+ tthree*math.cos(3*x)+tfour*math.sin(6*x)+tfive*math.cos(6*x)+tsix*math.sin(9*x)+tseven*math.cos(9*x)+teight*math.sin(12*x)+tnine*math.cos(12*x) for x in range(-3,4)],color='blue')\n",
        "plt.show()\n",
        "print(\"When depth is equal to 5\")\n",
        "for i in range(epochs):\n",
        "  tzero, tone, ttwo, tthree, tfour, tfive, tsix, tseven, teight, tnine, tten, televen, error5= grad_five(tzero, tone, ttwo, tthree, tfour, tfive, tsix, tseven, teight, tnine, tten, televen, l, df_data)\n",
        "print(tzero, tone, ttwo, tthree, tfour, tfive, tsix, tseven, teight, tnine, tten, televen)\n",
        "print(\"Error value when depth is 5\", error5)\n",
        "plt.scatter(df_data['row1'], df_data['row2'], color='green')\n",
        "plt.plot(list(range(-3,4)), [tzero+ tone*x+ ttwo*math.sin(3*x)+ tthree*math.cos(3*x)+tfour*math.sin(6*x)+tfive*math.cos(6*x)+tsix*math.sin(9*x)+tseven*math.cos(9*x)+teight*math.sin(12*x)+tnine*math.cos(12*x)+tten*math.sin(15*x)+televen*math.cos(15*x) for x in range(-3,4)],color='blue')\n",
        "plt.show()\n",
        "print(\"When depth is equal to 6\")\n",
        "for i in range(epochs):\n",
        "  tzero, tone, ttwo, tthree, tfour, tfive, tsix, tseven, teight, tnine, tten, televen, t12, t13, error6= grad_six(tzero, tone, ttwo, tthree, tfour, tfive, tsix, tseven, teight, tnine, tten, televen, t12, t13, l, df_data)\n",
        "print(tzero, tone, ttwo, tthree, tfour, tfive, tsix, tseven, teight, tnine, tten, televen, t12, t13)\n",
        "print(\"Error value when depth is 6\", error6)\n",
        "plt.scatter(df_data['row1'], df_data['row2'], color='green')\n",
        "plt.plot(list(range(-3,4)), [tzero+ tone*x+ ttwo*math.sin(3*x)+ tthree*math.cos(3*x)+tfour*math.sin(6*x)+tfive*math.cos(6*x)+tsix*math.sin(9*x)+tseven*math.cos(9*x)+teight*math.sin(12*x)+tnine*math.cos(12*x)+tten*math.sin(15*x)+televen*math.cos(15*x)+t12*math.sin(18*x)+t13*math.cos(18*x) for x in range(-3,4)],color='blue')\n",
        "plt.show()\n",
        "\n",
        "print(\"Graph for depth Vs MSE\")\n",
        "plt.plot([0,1,2,3,4,5,6],[error0,error1,error2,error3,error4,error5,error6])\n",
        "plt.xlabel(\"Depth\")\n",
        "plt.ylabel(\"MSE\")\n",
        "plt.show()\n",
        "\n",
        "#finding the error for test data\n",
        "error0=error1=error2=error3=error4=error5=error6=0\n",
        "for i in range(epochs):\n",
        "  tzero, tone, error0= grad_zero(tzero, tone, l, test_data)\n",
        "  tzero, tone, ttwo, tthree, error1= grad_one(tzero, tone, ttwo, tthree, l, test_data)\n",
        "  tzero, tone, ttwo, tthree, tfour, tfive,error2= grad_two(tzero, tone, ttwo, tthree, tfour, tfive, l, test_data)\n",
        "  tzero, tone, ttwo, tthree, tfour, tfive, tsix, tseven, error3= grad_three(tzero, tone, ttwo, tthree, tfour, tfive, tsix, tseven, l, test_data)\n",
        "  tzero, tone, ttwo, tthree, tfour, tfive, tsix, tseven, teight, tnine, error4= grad_four(tzero, tone, ttwo, tthree, tfour, tfive, tsix, tseven, teight, tnine, l, test_data)\n",
        "  tzero, tone, ttwo, tthree, tfour, tfive, tsix, tseven, teight, tnine, tten, televen, error5= grad_five(tzero, tone, ttwo, tthree, tfour, tfive, tsix, tseven, teight, tnine, tten, televen, l, test_data)\n",
        "  tzero, tone, ttwo, tthree, tfour, tfive, tsix, tseven, teight, tnine, tten, televen, t12, t13, error6= grad_six(tzero, tone, ttwo, tthree, tfour, tfive, tsix, tseven, teight, tnine, tten, televen, t12, t13, l, test_data)\n",
        "\n",
        "\n",
        "\n",
        "print(\"For Testing data\")\n",
        "print(\"Error for depth 0\",error0)\n",
        "print(\"Error for depth 1\",error1)\n",
        "print(\"Error for depth 2\",error2)\n",
        "print(\"Error for depth 3\",error3)\n",
        "print(\"Error for depth 4\",error4)\n",
        "print(\"Error for depth 5\",error5)\n",
        "print(\"Error for depth 6\",error6)"
      ],
      "metadata": {
        "colab": {
          "base_uri": "https://localhost:8080/",
          "height": 1000
        },
        "id": "hzIQB7zy3Fx9",
        "outputId": "3af812a2-a60d-4214-95a4-7cb495c7f75c"
      },
      "execution_count": 114,
      "outputs": [
        {
          "output_type": "stream",
          "name": "stdout",
          "text": [
            "When depth is equal to 0\n",
            "0.14482921203235968 5.285084958169276\n",
            "Error value when depth is 0 0.2464457953060625\n"
          ]
        },
        {
          "output_type": "display_data",
          "data": {
            "text/plain": [
              "<Figure size 432x288 with 1 Axes>"
            ],
            "image/png": "[encoded data removed]"
          },
          "metadata": {
            "needs_background": "light"
          }
        },
        {
          "output_type": "stream",
          "name": "stdout",
          "text": [
            "When depth is equal to 1\n",
            "0.3209035273512812 2.353667585678527 2.504431188325869 0.7350316547656794\n",
            "Error value when depth is 1 0.012073227959033341\n"
          ]
        },
        {
          "output_type": "display_data",
          "data": {
            "text/plain": [
              "<Figure size 432x288 with 1 Axes>"
            ],
            "image/png": "[encoded data removed]"
          },
          "metadata": {
            "needs_background": "light"
          }
        },
        {
          "output_type": "stream",
          "name": "stdout",
          "text": [
            "When depth is equal to 2\n",
            "0.4335327794146403 2.188724680586723 3.532078280872777 1.0639957367955013 -0.025605174849733035 0.034574829891292964\n",
            "Error value when depth is 2 0.0016753848809325828\n"
          ]
        },
        {
          "output_type": "display_data",
          "data": {
            "text/plain": [
              "<Figure size 432x288 with 1 Axes>"
            ],
            "image/png": "[encoded data removed]"
          },
          "metadata": {
            "needs_background": "light"
          }
        },
        {
          "output_type": "stream",
          "name": "stdout",
          "text": [
            "When depth is equal to 3\n",
            "0.4760717592552402 2.1289644619873798 3.8994248821438005 1.1965386695068139 -0.02597267827211649 0.027686816657722216 -0.025180903622353625 -0.038939074537434955\n",
            "Error value when depth is 3 0.0002881197987590529\n"
          ]
        },
        {
          "output_type": "display_data",
          "data": {
            "text/plain": [
              "<Figure size 432x288 with 1 Axes>"
            ],
            "image/png": "[encoded data removed]"
          },
          "metadata": {
            "needs_background": "light"
          }
        },
        {
          "output_type": "stream",
          "name": "stdout",
          "text": [
            "When depth is equal to 4\n",
            "0.4898657343605642 2.1087280661285 4.029890604780994 1.2509135984493425 -0.024855542996469245 0.018875278086712036 -0.01607780209317461 -0.040130367707985906 -0.017017817979560253 0.006900783446998304\n",
            "Error value when depth is 4 0.00010512767608138548\n"
          ]
        },
        {
          "output_type": "display_data",
          "data": {
            "text/plain": [
              "<Figure size 432x288 with 1 Axes>"
            ],
            "image/png": "[encoded data removed]"
          },
          "metadata": {
            "needs_background": "light"
          }
        },
        {
          "output_type": "stream",
          "name": "stdout",
          "text": [
            "When depth is equal to 5\n",
            "0.4936905353138033 2.1001503440209057 4.076845750293276 1.275284825848828 -0.023309901460812323 0.011507085270915023 -0.006307731839264459 -0.03525603649502615 -0.013294505770779567 0.0038168614338194764 -0.003304873454862829 0.004163010834545682\n",
            "Error value when depth is 5 7.855072343548099e-05\n"
          ]
        },
        {
          "output_type": "display_data",
          "data": {
            "text/plain": [
              "<Figure size 432x288 with 1 Axes>"
            ],
            "image/png": "[encoded data removed]"
          },
          "metadata": {
            "needs_background": "light"
          }
        },
        {
          "output_type": "stream",
          "name": "stdout",
          "text": [
            "When depth is equal to 6\n",
            "0.49560923267736445 2.096815060279331 4.094122904545116 1.287603087625864 -0.021043947713174128 0.004856859395863443 -0.0006797191418629527 -0.0314627214965284 -0.007858000109643253 -0.0005867312154329481 -0.003726952964611894 0.0037632738718789836 -0.005692360576984121 -0.01722902489654014\n",
            "Error value when depth is 6 7.058186173305727e-05\n"
          ]
        },
        {
          "output_type": "display_data",
          "data": {
            "text/plain": [
              "<Figure size 432x288 with 1 Axes>"
            ],
            "image/png": "[encoded data removed]"
          },
          "metadata": {
            "needs_background": "light"
          }
        },
        {
          "output_type": "stream",
          "name": "stdout",
          "text": [
            "Graph for depth Vs MSE\n"
          ]
        },
        {
          "output_type": "display_data",
          "data": {
            "text/plain": [
              "<Figure size 432x288 with 1 Axes>"
            ],
            "image/png": "[encoded data removed]"
          },
          "metadata": {
            "needs_background": "light"
          }
        },
        {
          "output_type": "stream",
          "name": "stdout",
          "text": [
            "For Testing data\n",
            "Error for depth 0 0.884158144583858\n",
            "Error for depth 1 0.035861516037222\n",
            "Error for depth 2 0.03578677053608973\n",
            "Error for depth 3 0.03306422354622006\n",
            "Error for depth 4 0.03231086027041271\n",
            "Error for depth 5 0.01616725748215441\n",
            "Error for depth 6 0.011295077381448634\n"
          ]
        }
      ]
    },
    {
      "cell_type": "code",
      "source": [
        "#considering first 20 elements for the validation\n",
        "first_20_data=df_data.head(20).copy()\n",
        "first_20_data"
      ],
      "metadata": {
        "colab": {
          "base_uri": "https://localhost:8080/",
          "height": 677
        },
        "id": "qcjA7q_76GJf",
        "outputId": "5463a3af-2ebe-4ebb-930c-add66c6417e5"
      },
      "execution_count": 115,
      "outputs": [
        {
          "output_type": "execute_result",
          "data": {
            "text/plain": [
              "      row1      row2\n",
              "0  -1.7825  0.833004\n",
              "1  -0.5765 -4.904931\n",
              "2  -2.9080 -9.266440\n",
              "3   2.2610  8.477712\n",
              "4  -0.5440 -4.757166\n",
              "5  -1.5535  1.369886\n",
              "6  -1.2180 -1.204061\n",
              "7  -2.2395 -4.621420\n",
              "8  -0.5350 -4.729833\n",
              "9  -1.2400 -0.750207\n",
              "10  1.6030 -0.122200\n",
              "11  2.7905  9.204258\n",
              "12  1.1310  0.479620\n",
              "13 -1.5705  1.163907\n",
              "14 -2.5130 -8.200211\n",
              "15  2.2735  8.511552\n",
              "16  0.1680  4.088911\n",
              "17  0.8035  3.864681\n",
              "18 -1.4245  0.598644\n",
              "19  0.4395  5.639878"
            ],
            "text/html": [
              "\n",
              "  <div id=\"df-ec86ab20-224e-401d-8ca7-f3cd1a2cfe79\">\n",
              "    <div class=\"colab-df-container\">\n",
              "      <div>\n",
              "<style scoped>\n",
              "    .dataframe tbody tr th:only-of-type {\n",
              "        vertical-align: middle;\n",
              "    }\n",
              "\n",
              "    .dataframe tbody tr th {\n",
              "        vertical-align: top;\n",
              "    }\n",
              "\n",
              "    .dataframe thead th {\n",
              "        text-align: right;\n",
              "    }\n",
              "</style>\n",
              "<table border=\"1\" class=\"dataframe\">\n",
              "  <thead>\n",
              "    <tr style=\"text-align: right;\">\n",
              "      <th></th>\n",
              "      <th>row1</th>\n",
              "      <th>row2</th>\n",
              "    </tr>\n",
              "  </thead>\n",
              "  <tbody>\n",
              "    <tr>\n",
              "      <th>0</th>\n",
              "      <td>-1.7825</td>\n",
              "      <td>0.833004</td>\n",
              "    </tr>\n",
              "    <tr>\n",
              "      <th>1</th>\n",
              "      <td>-0.5765</td>\n",
              "      <td>-4.904931</td>\n",
              "    </tr>\n",
              "    <tr>\n",
              "      <th>2</th>\n",
              "      <td>-2.9080</td>\n",
              "      <td>-9.266440</td>\n",
              "    </tr>\n",
              "    <tr>\n",
              "      <th>3</th>\n",
              "      <td>2.2610</td>\n",
              "      <td>8.477712</td>\n",
              "    </tr>\n",
              "    <tr>\n",
              "      <th>4</th>\n",
              "      <td>-0.5440</td>\n",
              "      <td>-4.757166</td>\n",
              "    </tr>\n",
              "    <tr>\n",
              "      <th>5</th>\n",
              "      <td>-1.5535</td>\n",
              "      <td>1.369886</td>\n",
              "    </tr>\n",
              "    <tr>\n",
              "      <th>6</th>\n",
              "      <td>-1.2180</td>\n",
              "      <td>-1.204061</td>\n",
              "    </tr>\n",
              "    <tr>\n",
              "      <th>7</th>\n",
              "      <td>-2.2395</td>\n",
              "      <td>-4.621420</td>\n",
              "    </tr>\n",
              "    <tr>\n",
              "      <th>8</th>\n",
              "      <td>-0.5350</td>\n",
              "      <td>-4.729833</td>\n",
              "    </tr>\n",
              "    <tr>\n",
              "      <th>9</th>\n",
              "      <td>-1.2400</td>\n",
              "      <td>-0.750207</td>\n",
              "    </tr>\n",
              "    <tr>\n",
              "      <th>10</th>\n",
              "      <td>1.6030</td>\n",
              "      <td>-0.122200</td>\n",
              "    </tr>\n",
              "    <tr>\n",
              "      <th>11</th>\n",
              "      <td>2.7905</td>\n",
              "      <td>9.204258</td>\n",
              "    </tr>\n",
              "    <tr>\n",
              "      <th>12</th>\n",
              "      <td>1.1310</td>\n",
              "      <td>0.479620</td>\n",
              "    </tr>\n",
              "    <tr>\n",
              "      <th>13</th>\n",
              "      <td>-1.5705</td>\n",
              "      <td>1.163907</td>\n",
              "    </tr>\n",
              "    <tr>\n",
              "      <th>14</th>\n",
              "      <td>-2.5130</td>\n",
              "      <td>-8.200211</td>\n",
              "    </tr>\n",
              "    <tr>\n",
              "      <th>15</th>\n",
              "      <td>2.2735</td>\n",
              "      <td>8.511552</td>\n",
              "    </tr>\n",
              "    <tr>\n",
              "      <th>16</th>\n",
              "      <td>0.1680</td>\n",
              "      <td>4.088911</td>\n",
              "    </tr>\n",
              "    <tr>\n",
              "      <th>17</th>\n",
              "      <td>0.8035</td>\n",
              "      <td>3.864681</td>\n",
              "    </tr>\n",
              "    <tr>\n",
              "      <th>18</th>\n",
              "      <td>-1.4245</td>\n",
              "      <td>0.598644</td>\n",
              "    </tr>\n",
              "    <tr>\n",
              "      <th>19</th>\n",
              "      <td>0.4395</td>\n",
              "      <td>5.639878</td>\n",
              "    </tr>\n",
              "  </tbody>\n",
              "</table>\n",
              "</div>\n",
              "      <button class=\"colab-df-convert\" onclick=\"convertToInteractive('df-ec86ab20-224e-401d-8ca7-f3cd1a2cfe79')\"\n",
              "              title=\"Convert this dataframe to an interactive table.\"\n",
              "              style=\"display:none;\">\n",
              "        \n",
              "  <svg xmlns=\"http://www.w3.org/2000/svg\" height=\"24px\"viewBox=\"0 0 24 24\"\n",
              "       width=\"24px\">\n",
              "    <path d=\"M0 0h24v24H0V0z\" fill=\"none\"/>\n",
              "    <path d=\"M18.56 5.44l.94 2.06.94-2.06 2.06-.94-2.06-.94-.94-2.06-.94 2.06-2.06.94zm-11 1L8.5 8.5l.94-2.06 2.06-.94-2.06-.94L8.5 2.5l-.94 2.06-2.06.94zm10 10l.94 2.06.94-2.06 2.06-.94-2.06-.94-.94-2.06-.94 2.06-2.06.94z\"/><path d=\"M17.41 7.96l-1.37-1.37c-.4-.4-.92-.59-1.43-.59-.52 0-1.04.2-1.43.59L10.3 9.45l-7.72 7.72c-.78.78-.78 2.05 0 2.83L4 21.41c.39.39.9.59 1.41.59.51 0 1.02-.2 1.41-.59l7.78-7.78 2.81-2.81c.8-.78.8-2.07 0-2.86zM5.41 20L4 18.59l7.72-7.72 1.47 1.35L5.41 20z\"/>\n",
              "  </svg>\n",
              "      </button>\n",
              "      \n",
              "  <style>\n",
              "    .colab-df-container {\n",
              "      display:flex;\n",
              "      flex-wrap:wrap;\n",
              "      gap: 12px;\n",
              "    }\n",
              "\n",
              "    .colab-df-convert {\n",
              "      background-color: #E8F0FE;\n",
              "      border: none;\n",
              "      border-radius: 50%;\n",
              "      cursor: pointer;\n",
              "      display: none;\n",
              "      fill: #1967D2;\n",
              "      height: 32px;\n",
              "      padding: 0 0 0 0;\n",
              "      width: 32px;\n",
              "    }\n",
              "\n",
              "    .colab-df-convert:hover {\n",
              "      background-color: #E2EBFA;\n",
              "      box-shadow: 0px 1px 2px rgba(60, 64, 67, 0.3), 0px 1px 3px 1px rgba(60, 64, 67, 0.15);\n",
              "      fill: #174EA6;\n",
              "    }\n",
              "\n",
              "    [theme=dark] .colab-df-convert {\n",
              "      background-color: #3B4455;\n",
              "      fill: #D2E3FC;\n",
              "    }\n",
              "\n",
              "    [theme=dark] .colab-df-convert:hover {\n",
              "      background-color: #434B5C;\n",
              "      box-shadow: 0px 1px 3px 1px rgba(0, 0, 0, 0.15);\n",
              "      filter: drop-shadow(0px 1px 2px rgba(0, 0, 0, 0.3));\n",
              "      fill: #FFFFFF;\n",
              "    }\n",
              "  </style>\n",
              "\n",
              "      <script>\n",
              "        const buttonEl =\n",
              "          document.querySelector('#df-ec86ab20-224e-401d-8ca7-f3cd1a2cfe79 button.colab-df-convert');\n",
              "        buttonEl.style.display =\n",
              "          google.colab.kernel.accessAllowed ? 'block' : 'none';\n",
              "\n",
              "        async function convertToInteractive(key) {\n",
              "          const element = document.querySelector('#df-ec86ab20-224e-401d-8ca7-f3cd1a2cfe79');\n",
              "          const dataTable =\n",
              "            await google.colab.kernel.invokeFunction('convertToInteractive',\n",
              "                                                     [key], {});\n",
              "          if (!dataTable) return;\n",
              "\n",
              "          const docLinkHtml = 'Like what you see? Visit the ' +\n",
              "            '<a target=\"_blank\" href=https://colab.research.google.com/notebooks/data_table.ipynb>data table notebook</a>'\n",
              "            + ' to learn more about interactive tables.';\n",
              "          element.innerHTML = '';\n",
              "          dataTable['output_type'] = 'display_data';\n",
              "          await google.colab.output.renderOutput(dataTable, element);\n",
              "          const docLink = document.createElement('div');\n",
              "          docLink.innerHTML = docLinkHtml;\n",
              "          element.appendChild(docLink);\n",
              "        }\n",
              "      </script>\n",
              "    </div>\n",
              "  </div>\n",
              "  "
            ]
          },
          "metadata": {},
          "execution_count": 115
        }
      ]
    },
    {
      "cell_type": "code",
      "source": [
        "#Implementing for the first 20 elements\n",
        "tzero = 0\n",
        "tone = 0\n",
        "ttwo = 0\n",
        "tthree = 0\n",
        "tfour = 0\n",
        "tfive = 0\n",
        "tsix = 0\n",
        "tseven = 0\n",
        "teight = 0\n",
        "tnine = 0\n",
        "tten = 0\n",
        "televen = 0\n",
        "t12 = 0\n",
        "t13 = 0\n",
        "error=0\n",
        "l = 0.01\n",
        "epochs = 1000\n",
        "#Train the model with first 20 elements\n",
        "error0=error1=error2=error3=error4=error5=error6=0\n",
        "print(\"When depth is equal to 0\")\n",
        "for i in range(epochs):\n",
        "  tzero, tone, error0= grad_zero(tzero, tone, l, first_20_data)\n",
        "print(tzero, tone)\n",
        "print(\"Error value when depth is 0\", error0)\n",
        "plt.scatter(first_20_data['row1'], first_20_data['row2'], color='green')\n",
        "plt.plot(list(range(-3,4)), [tzero+tone*x for x in range(-3,4)],color='blue')\n",
        "plt.show()\n",
        "print(\"When depth is equal to 1\")\n",
        "for i in range(epochs):\n",
        "  tzero, tone, ttwo, tthree, error1= grad_one(tzero, tone, ttwo, tthree, l, first_20_data)\n",
        "print(tzero, tone, ttwo, tthree)\n",
        "print(\"Error value when depth is 1\", error1)\n",
        "plt.scatter(first_20_data['row1'], first_20_data['row2'], color='green')\n",
        "plt.plot(list(range(-3,4)), [tzero+ tone*x+ ttwo*math.sin(3*x)+ tthree*math.cos(3*x) for x in range(-3,4)],color='blue')\n",
        "plt.show()\n",
        "print(\"When depth is equal to 2\")\n",
        "for i in range(epochs):\n",
        "  tzero, tone, ttwo, tthree, tfour, tfive,error2= grad_two(tzero, tone, ttwo, tthree, tfour, tfive, l, first_20_data)\n",
        "print(tzero, tone, ttwo, tthree, tfour, tfive)\n",
        "print(\"Error value when depth is 2\", error2)\n",
        "plt.scatter(first_20_data['row1'], first_20_data['row2'], color='green')\n",
        "plt.plot(list(range(-3,4)), [tzero+ tone*x+ ttwo*math.sin(3*x)+ tthree*math.cos(3*x)+tfour*math.sin(6*x)+tfive*math.cos(6*x) for x in range(-3,4)],color='blue')\n",
        "plt.show()\n",
        "print(\"When depth is equal to 3\")\n",
        "for i in range(epochs):\n",
        "  tzero, tone, ttwo, tthree, tfour, tfive, tsix, tseven, error3= grad_three(tzero, tone, ttwo, tthree, tfour, tfive, tsix, tseven, l, first_20_data)\n",
        "print(tzero, tone, ttwo, tthree, tfour, tfive, tsix, tseven)\n",
        "print(\"Error value when depth is 3\", error3)\n",
        "plt.scatter(first_20_data['row1'], first_20_data['row2'], color='green')\n",
        "plt.plot(list(range(-3,4)), [tzero+ tone*x+ ttwo*math.sin(3*x)+ tthree*math.cos(3*x)+tfour*math.sin(6*x)+tfive*math.cos(6*x)+tsix*math.sin(9*x)+tseven*math.cos(9*x) for x in range(-3,4)],color='blue')\n",
        "plt.show()\n",
        "print(\"When depth is equal to 4\")\n",
        "for i in range(epochs):\n",
        "  tzero, tone, ttwo, tthree, tfour, tfive, tsix, tseven, teight, tnine, error4= grad_four(tzero, tone, ttwo, tthree, tfour, tfive, tsix, tseven, teight, tnine, l, first_20_data)\n",
        "print(tzero, tone, ttwo, tthree, tfour, tfive, tsix, tseven, teight, tnine)\n",
        "print(\"Error value when depth is 4\", error4)\n",
        "plt.scatter(first_20_data['row1'], first_20_data['row2'], color='green')\n",
        "plt.plot(list(range(-3,4)), [tzero+ tone*x+ ttwo*math.sin(3*x)+ tthree*math.cos(3*x)+tfour*math.sin(6*x)+tfive*math.cos(6*x)+tsix*math.sin(9*x)+tseven*math.cos(9*x)+teight*math.sin(12*x)+tnine*math.cos(12*x) for x in range(-3,4)],color='blue')\n",
        "plt.show()\n",
        "print(\"When depth is equal to 5\")\n",
        "for i in range(epochs):\n",
        "  tzero, tone, ttwo, tthree, tfour, tfive, tsix, tseven, teight, tnine, tten, televen, error5= grad_five(tzero, tone, ttwo, tthree, tfour, tfive, tsix, tseven, teight, tnine, tten, televen, l, first_20_data)\n",
        "print(tzero, tone, ttwo, tthree, tfour, tfive, tsix, tseven, teight, tnine, tten, televen)\n",
        "print(\"Error value when depth is 5\", error5)\n",
        "plt.scatter(first_20_data['row1'], first_20_data['row2'], color='green')\n",
        "plt.plot(list(range(-3,4)), [tzero+ tone*x+ ttwo*math.sin(3*x)+ tthree*math.cos(3*x)+tfour*math.sin(6*x)+tfive*math.cos(6*x)+tsix*math.sin(9*x)+tseven*math.cos(9*x)+teight*math.sin(12*x)+tnine*math.cos(12*x)+tten*math.sin(15*x)+televen*math.cos(15*x) for x in range(-3,4)],color='blue')\n",
        "plt.show()\n",
        "print(\"When depth is equal to 6\")\n",
        "for i in range(epochs):\n",
        "  tzero, tone, ttwo, tthree, tfour, tfive, tsix, tseven, teight, tnine, tten, televen, t12, t13, error6= grad_six(tzero, tone, ttwo, tthree, tfour, tfive, tsix, tseven, teight, tnine, tten, televen, t12, t13, l, first_20_data)\n",
        "print(tzero, tone, ttwo, tthree, tfour, tfive, tsix, tseven, teight, tnine, tten, televen, t12, t13)\n",
        "print(\"Error value when depth is 6\", error6)\n",
        "plt.scatter(first_20_data['row1'], first_20_data['row2'], color='green')\n",
        "plt.plot(list(range(-3,4)), [tzero+ tone*x+ ttwo*math.sin(3*x)+ tthree*math.cos(3*x)+tfour*math.sin(6*x)+tfive*math.cos(6*x)+tsix*math.sin(9*x)+tseven*math.cos(9*x)+teight*math.sin(12*x)+tnine*math.cos(12*x)+tten*math.sin(15*x)+televen*math.cos(15*x)+t12*math.sin(18*x)+t13*math.cos(18*x) for x in range(-3,4)],color='blue')\n",
        "plt.show()\n",
        "\n",
        "print(\"Graph for depth Vs MSE\")\n",
        "plt.plot([0,1,2,3,4,5,6],[error0,error1,error2,error3,error4,error5,error6])\n",
        "plt.xlabel(\"Depth\")\n",
        "plt.ylabel(\"MSE\")\n",
        "plt.show()\n",
        "\n",
        "\n",
        "#validation of test data pn the trained model\n",
        "for i in range(epochs):\n",
        "  tzero, tone, error0= grad_zero(tzero, tone, l, test_data)\n",
        "  tzero, tone, ttwo, tthree, error1= grad_one(tzero, tone, ttwo, tthree, l, test_data)\n",
        "  tzero, tone, ttwo, tthree, tfour, tfive,error2= grad_two(tzero, tone, ttwo, tthree, tfour, tfive, l, test_data)\n",
        "  tzero, tone, ttwo, tthree, tfour, tfive, tsix, tseven, error3= grad_three(tzero, tone, ttwo, tthree, tfour, tfive, tsix, tseven, l, test_data)\n",
        "  tzero, tone, ttwo, tthree, tfour, tfive, tsix, tseven, teight, tnine, error4= grad_four(tzero, tone, ttwo, tthree, tfour, tfive, tsix, tseven, teight, tnine, l, test_data)\n",
        "  tzero, tone, ttwo, tthree, tfour, tfive, tsix, tseven, teight, tnine, tten, televen, error5= grad_five(tzero, tone, ttwo, tthree, tfour, tfive, tsix, tseven, teight, tnine, tten, televen, l, test_data)\n",
        "  tzero, tone, ttwo, tthree, tfour, tfive, tsix, tseven, teight, tnine, tten, televen, t12, t13, error6= grad_six(tzero, tone, ttwo, tthree, tfour, tfive, tsix, tseven, teight, tnine, tten, televen, t12, t13, l, test_data)\n",
        "\n",
        "\n",
        "print(\"For Testing data\")\n",
        "print(\"Error for depth 0\",error0)\n",
        "print(\"Error for depth 1\",error1)\n",
        "print(\"Error for depth 2\",error2)\n",
        "print(\"Error for depth 3\",error3)\n",
        "print(\"Error for depth 4\",error4)\n",
        "print(\"Error for depth 5\",error5)\n",
        "print(\"Error for depth 6\",error6)"
      ],
      "metadata": {
        "colab": {
          "base_uri": "https://localhost:8080/",
          "height": 1000
        },
        "outputId": "5dd1dd0e-5781-47a8-9dcb-e95e5cabc67f",
        "id": "5JdWIGgl6oF4"
      },
      "execution_count": 116,
      "outputs": [
        {
          "output_type": "stream",
          "name": "stdout",
          "text": [
            "When depth is equal to 0\n",
            "0.9565800277476417 2.747540720887767\n",
            "Error value when depth is 0 0.4748923781897142\n"
          ]
        },
        {
          "output_type": "display_data",
          "data": {
            "text/plain": [
              "<Figure size 432x288 with 1 Axes>"
            ],
            "image/png": "[encoded data removed]"
          },
          "metadata": {
            "needs_background": "light"
          }
        },
        {
          "output_type": "stream",
          "name": "stdout",
          "text": [
            "When depth is equal to 1\n",
            "0.5167443502096529 2.0848821618626547 4.083629372181191 1.368771366036921\n",
            "Error value when depth is 1 0.0002984575233706651\n"
          ]
        },
        {
          "output_type": "display_data",
          "data": {
            "text/plain": [
              "<Figure size 432x288 with 1 Axes>"
            ],
            "image/png": "[encoded data removed]"
          },
          "metadata": {
            "needs_background": "light"
          }
        },
        {
          "output_type": "stream",
          "name": "stdout",
          "text": [
            "When depth is equal to 2\n",
            "0.5263797710381306 2.0843950658718384 4.074782054609889 1.3809920477928221 -0.024854889530533646 0.040375359049534036\n",
            "Error value when depth is 2 0.0002566539395082413\n"
          ]
        },
        {
          "output_type": "display_data",
          "data": {
            "text/plain": [
              "<Figure size 432x288 with 1 Axes>"
            ],
            "image/png": "[encoded data removed]"
          },
          "metadata": {
            "needs_background": "light"
          }
        },
        {
          "output_type": "stream",
          "name": "stdout",
          "text": [
            "When depth is equal to 3\n",
            "0.5063523933154229 2.07206637336933 4.096039783529198 1.3762564111269902 -0.006923669601695354 0.03483448931727572 0.05043099911732955 0.019335828429575392\n",
            "Error value when depth is 3 0.0001933229040045837\n"
          ]
        },
        {
          "output_type": "display_data",
          "data": {
            "text/plain": [
              "<Figure size 432x288 with 1 Axes>"
            ],
            "image/png": "[encoded data removed]"
          },
          "metadata": {
            "needs_background": "light"
          }
        },
        {
          "output_type": "stream",
          "name": "stdout",
          "text": [
            "When depth is equal to 4\n",
            "0.5066925597554226 2.0722746599059163 4.101426349125794 1.3752752145760863 -0.003996081552289538 0.049757236235927524 0.054328272627927 0.031250885409738464 -0.01129648864252848 0.023464218802422505\n",
            "Error value when depth is 4 0.00018406673677399396\n"
          ]
        },
        {
          "output_type": "display_data",
          "data": {
            "text/plain": [
              "<Figure size 432x288 with 1 Axes>"
            ],
            "image/png": "[encoded data removed]"
          },
          "metadata": {
            "needs_background": "light"
          }
        },
        {
          "output_type": "stream",
          "name": "stdout",
          "text": [
            "When depth is equal to 5\n",
            "0.5113232617099316 2.077059231434038 4.085539749047666 1.3703469795720453 -0.014560410778876062 0.05428937529472843 0.051008205619181686 0.04010969089227078 -0.01182499880876072 0.030269841980906927 0.024193144626119056 -0.0038529741188269096\n",
            "Error value when depth is 5 0.00017732624531586422\n"
          ]
        },
        {
          "output_type": "display_data",
          "data": {
            "text/plain": [
              "<Figure size 432x288 with 1 Axes>"
            ],
            "image/png": "[encoded data removed]"
          },
          "metadata": {
            "needs_background": "light"
          }
        },
        {
          "output_type": "stream",
          "name": "stdout",
          "text": [
            "When depth is equal to 6\n",
            "0.514957482004748 2.0797971279195773 4.075558719013406 1.3694321321213117 -0.02087886841979972 0.05635043823673964 0.04768417957912977 0.04488812364222401 -0.012094322435688656 0.032259910262955147 0.03522264909156741 -0.005051749600190575 0.0013711868715161142 0.0010982228491553173\n",
            "Error value when depth is 6 0.00017559630268550703\n"
          ]
        },
        {
          "output_type": "display_data",
          "data": {
            "text/plain": [
              "<Figure size 432x288 with 1 Axes>"
            ],
            "image/png": "[encoded data removed]"
          },
          "metadata": {
            "needs_background": "light"
          }
        },
        {
          "output_type": "stream",
          "name": "stdout",
          "text": [
            "Graph for depth Vs MSE\n"
          ]
        },
        {
          "output_type": "display_data",
          "data": {
            "text/plain": [
              "<Figure size 432x288 with 1 Axes>"
            ],
            "image/png": "[encoded data removed]"
          },
          "metadata": {
            "needs_background": "light"
          }
        },
        {
          "output_type": "stream",
          "name": "stdout",
          "text": [
            "For Testing data\n",
            "Error for depth 0 0.8940513264971323\n",
            "Error for depth 1 0.06019077161581625\n",
            "Error for depth 2 0.059543519722424186\n",
            "Error for depth 3 0.05527092931506885\n",
            "Error for depth 4 0.05143400494864442\n",
            "Error for depth 5 0.009300526572256123\n",
            "Error for depth 6 0.006777801873815473\n"
          ]
        }
      ]
    }
  ]
}